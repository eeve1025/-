{
 "cells": [
  {
   "cell_type": "code",
   "execution_count": 1,
   "metadata": {},
   "outputs": [
    {
     "name": "stdout",
     "output_type": "stream",
     "text": [
      "/workspaces/big_data/new file\n"
     ]
    }
   ],
   "source": [
    "#找到python在電腦裡的路徑getcwd\n",
    "import os\n",
    "path=os.getcwd()\n",
    "path=os.path.join(path,\"new file\")\n",
    "print(path)\n",
    "if os.path.exists(path)==False:\n",
    "  os.mkdir(path)"
   ]
  },
  {
   "cell_type": "code",
   "execution_count": 45,
   "metadata": {},
   "outputs": [],
   "source": [
    "#寫入資料 w覆蓋原來資料\n",
    "f=open(\"test.text\",\"w\",encoding='utf8')\n",
    "f.write(\"4555hjhkjlklk;;,6\\b\")\n",
    "f.write(\"4555554431322222\\n\")\n",
    "f.write(\"4ffvsasd\")\n",
    "f.close()\n"
   ]
  },
  {
   "cell_type": "code",
   "execution_count": 48,
   "metadata": {},
   "outputs": [
    {
     "name": "stdout",
     "output_type": "stream",
     "text": [
      "4555hjhkjlklk;;,4555554431322222\n",
      "4ffvsasd\n",
      "我很好\n",
      "\n",
      "我很好\n",
      "\n",
      "4555hjhkjlklk;;,4555554431322222\n",
      "4ffvsasd\n",
      "我很好\n",
      "\n",
      "我很好\n",
      "\n",
      "我很好\n",
      "\n"
     ]
    }
   ],
   "source": [
    "#讀取資料 r+為insert\n",
    "f=open(\"test.text\",\"r+\",encoding=\"utf8\")\n",
    "print(f.read())\n",
    "f.write(\"\\n我很好\\n\")\n",
    "#第一個0為偏移位置；第二個為1我在那裡我就讀甚麼,2我會跑到文件的最尾巴,0我會跑在整串的最前面\n",
    "f.seek(0,0)\n",
    "print(f.read())\n",
    "f.close()"
   ]
  }
 ],
 "metadata": {
  "kernelspec": {
   "display_name": "Python 3",
   "language": "python",
   "name": "python3"
  },
  "language_info": {
   "codemirror_mode": {
    "name": "ipython",
    "version": 3
   },
   "file_extension": ".py",
   "mimetype": "text/x-python",
   "name": "python",
   "nbconvert_exporter": "python",
   "pygments_lexer": "ipython3",
   "version": "3.10.8"
  },
  "orig_nbformat": 4
 },
 "nbformat": 4,
 "nbformat_minor": 2
}
