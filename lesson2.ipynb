{
 "cells": [
  {
   "cell_type": "code",
   "execution_count": 1,
   "metadata": {},
   "outputs": [
    {
     "name": "stdout",
     "output_type": "stream",
     "text": [
      "/workspaces/big_data/new file\n"
     ]
    }
   ],
   "source": [
    "#找到python在電腦裡的路徑getcwd\n",
    "import os\n",
    "path=os.getcwd()\n",
    "path=os.path.join(path,\"new file\")\n",
    "print(path)\n",
    "if os.path.exists(path)==False:\n",
    "  os.mkdir(path)"
   ]
  },
  {
   "cell_type": "code",
   "execution_count": 65,
   "metadata": {},
   "outputs": [],
   "source": [
    "#寫入資料 w覆蓋原來資料\n",
    "f=open(\"test.text\",\"w\",encoding='utf8')\n",
    "f.write(\"4555hjhkjlklk;;,6\\b\")\n",
    "f.write(\"4555554431322222\\n\")\n",
    "f.write(\"4ffvsasd\")\n",
    "f.close()\n"
   ]
  },
  {
   "cell_type": "code",
   "execution_count": 68,
   "metadata": {},
   "outputs": [
    {
     "name": "stdout",
     "output_type": "stream",
     "text": [
      "xyz0123t4555hjhkjlklk;;,4555554431322222\n",
      "4ffvsasd\n",
      "我很好\n",
      "\n",
      "我很好\n",
      "\n",
      "我很好\n",
      "\n"
     ]
    }
   ],
   "source": [
    "#讀取資料 r+為insert\n",
    "f=open(\"test.text\",\"a+\",encoding=\"utf8\")\n",
    "f.write(\"\\n我很好\\n\")\n",
    "#第一個0為偏移位置；第二個為1我在那裡我就讀甚麼,2我會跑到文件的最尾巴,0我會跑在整串的最前面\n",
    "print(\"xyz\",\"123\",sep=\"0\",end='t')\n",
    "f.seek(0,0)\n",
    "print(f.read())\n",
    "f.close()"
   ]
  },
  {
   "cell_type": "markdown",
   "metadata": {},
   "source": [
    "w:純寫入，位置:最前面,開新檔(覆蓋舊檔)\n",
    "r:純讀取，位置:最前面，只能開啟已有檔案\n",
    "a:純寫入，位置:最後面，開新檔(不覆蓋舊檔)\n",
    "+可讀可寫"
   ]
  },
  {
   "cell_type": "code",
   "execution_count": null,
   "metadata": {},
   "outputs": [],
   "source": [
    "f=open(\"test.text\",\"a\",encoding=\"utf8\")\n"
   ]
  },
  {
   "cell_type": "code",
   "execution_count": 2,
   "metadata": {},
   "outputs": [
    {
     "name": "stdout",
     "output_type": "stream",
     "text": [
      "{'stkNo': '6180', 'stkName': '橘子            ', 'showListPriceNote': False, 'showListPriceLink': False, 'reportDate': '112/08', 'iTotalRecords': 22, 'aaData': [['112/08/01', '517', '36,634', '71.00', '71.10', '70.60', '70.90', '0.30', '512'], ['112/08/02', '703', '49,488', '70.90', '71.10', '70.00', '70.00', '-0.90', '795'], ['112/08/04', '311', '21,892', '70.00', '70.60', '70.00', '70.30', '0.30', '347'], ['112/08/07', '1,083', '75,021', '70.80', '70.80', '68.80', '69.10', '-1.20', '1,191'], ['112/08/08', '1,617', '108,073', '68.40', '68.40', '66.10', '67.00', '-2.10', '1,813'], ['112/08/09', '720', '47,705', '66.30', '66.50', '66.10', '66.20', '-0.80', '860'], ['112/08/10', '634', '42,148', '66.50', '67.40', '66.20', '66.40', '0.20', '617'], ['112/08/11', '435', '28,953', '66.60', '67.00', '66.10', '66.70', '0.30', '553'], ['112/08/14', '477', '31,540', '66.70', '66.70', '65.80', '66.20', '-0.50', '499'], ['112/08/15', '310', '20,575', '66.40', '66.70', '65.80', '66.30', '0.10', '387'], ['112/08/16', '566', '36,795', '65.90', '65.90', '64.60', '65.00', '-1.30', '724'], ['112/08/17', '659', '43,749', '65.00', '67.30', '64.50', '67.10', '2.10', '583'], ['112/08/18', '392', '26,158', '67.50', '67.50', '66.10', '66.50', '-0.60', '632'], ['112/08/21', '201', '13,311', '66.50', '66.50', '65.90', '66.30', '-0.20', '260'], ['112/08/22', '392', '26,071', '66.30', '67.00', '65.90', '66.90', '0.60', '358'], ['112/08/23', '221', '14,721', '66.90', '67.10', '66.30', '66.50', '-0.40', '401'], ['112/08/24', '270', '18,060', '66.50', '67.50', '66.50', '67.00', '0.50', '260'], ['112/08/25', '258', '17,090', '66.50', '66.50', '66.00', '66.10', '-0.90', '316'], ['112/08/28', '254', '16,784', '66.20', '66.60', '65.50', '66.10', '0.00', '274'], ['112/08/29', '150', '9,972', '66.50', '66.80', '66.00', '66.30', '0.20', '216'], ['112/08/30', '384', '25,698', '66.10', '67.30', '66.10', '67.30', '1.00', '389'], ['112/08/31', '470', '31,806', '67.20', '68.20', '66.50', '67.80', '0.50', '886']]}\n"
     ]
    }
   ],
   "source": [
    "import requests\n",
    "import json\n",
    "\n",
    "res=requests.get(\"https://www.tpex.org.tw/web/stock/aftertrading/daily_trading_info/st43_result.php?l=zh-tw&d=112/08/01&stkno=6180&_=1693626842307\")\n",
    "\n",
    "#print(res)\n",
    "#print(res.text)\n",
    "\n",
    "jd=json.loads(res.text)\n",
    "print(jd)\n"
   ]
  },
  {
   "cell_type": "code",
   "execution_count": 15,
   "metadata": {},
   "outputs": [
    {
     "name": "stdout",
     "output_type": "stream",
     "text": [
      "('stkNo', '6180')\n",
      "('stkName', '橘子            ')\n",
      "('showListPriceNote', False)\n",
      "('showListPriceLink', False)\n",
      "('reportDate', '112/08')\n",
      "('iTotalRecords', 22)\n",
      "('aaData', [['112/08/01', '517', '36,634', '71.00', '71.10', '70.60', '70.90', '0.30', '512'], ['112/08/02', '703', '49,488', '70.90', '71.10', '70.00', '70.00', '-0.90', '795'], ['112/08/04', '311', '21,892', '70.00', '70.60', '70.00', '70.30', '0.30', '347'], ['112/08/07', '1,083', '75,021', '70.80', '70.80', '68.80', '69.10', '-1.20', '1,191'], ['112/08/08', '1,617', '108,073', '68.40', '68.40', '66.10', '67.00', '-2.10', '1,813'], ['112/08/09', '720', '47,705', '66.30', '66.50', '66.10', '66.20', '-0.80', '860'], ['112/08/10', '634', '42,148', '66.50', '67.40', '66.20', '66.40', '0.20', '617'], ['112/08/11', '435', '28,953', '66.60', '67.00', '66.10', '66.70', '0.30', '553'], ['112/08/14', '477', '31,540', '66.70', '66.70', '65.80', '66.20', '-0.50', '499'], ['112/08/15', '310', '20,575', '66.40', '66.70', '65.80', '66.30', '0.10', '387'], ['112/08/16', '566', '36,795', '65.90', '65.90', '64.60', '65.00', '-1.30', '724'], ['112/08/17', '659', '43,749', '65.00', '67.30', '64.50', '67.10', '2.10', '583'], ['112/08/18', '392', '26,158', '67.50', '67.50', '66.10', '66.50', '-0.60', '632'], ['112/08/21', '201', '13,311', '66.50', '66.50', '65.90', '66.30', '-0.20', '260'], ['112/08/22', '392', '26,071', '66.30', '67.00', '65.90', '66.90', '0.60', '358'], ['112/08/23', '221', '14,721', '66.90', '67.10', '66.30', '66.50', '-0.40', '401'], ['112/08/24', '270', '18,060', '66.50', '67.50', '66.50', '67.00', '0.50', '260'], ['112/08/25', '258', '17,090', '66.50', '66.50', '66.00', '66.10', '-0.90', '316'], ['112/08/28', '254', '16,784', '66.20', '66.60', '65.50', '66.10', '0.00', '274'], ['112/08/29', '150', '9,972', '66.50', '66.80', '66.00', '66.30', '0.20', '216'], ['112/08/30', '384', '25,698', '66.10', '67.30', '66.10', '67.30', '1.00', '389'], ['112/08/31', '470', '31,806', '67.20', '68.20', '66.50', '67.80', '0.50', '886']])\n"
     ]
    }
   ],
   "source": [
    "stock_json=res.json()\n",
    "\n",
    "for stock_name in stock_json.items():\n",
    "    print(stock_name)"
   ]
  },
  {
   "cell_type": "code",
   "execution_count": 18,
   "metadata": {},
   "outputs": [
    {
     "name": "stdout",
     "output_type": "stream",
     "text": [
      "['112/08/01', '517', '36,634', '71.00', '71.10', '70.60', '70.90', '0.30', '512']\n"
     ]
    }
   ],
   "source": [
    "\n",
    "print(jd['aaData'][0])\n"
   ]
  },
  {
   "cell_type": "code",
   "execution_count": 18,
   "metadata": {},
   "outputs": [
    {
     "name": "stdout",
     "output_type": "stream",
     "text": [
      "日期 112/08/01 收盤價 62.30\n",
      "日期 112/08/02 收盤價 59.90\n",
      "日期 112/08/04 收盤價 59.00\n",
      "日期 112/08/07 收盤價 60.00\n",
      "日期 112/08/08 收盤價 56.20\n",
      "日期 112/08/09 收盤價 56.50\n",
      "日期 112/08/10 收盤價 53.20\n",
      "日期 112/08/11 收盤價 51.80\n",
      "日期 112/08/14 收盤價 49.80\n",
      "日期 112/08/15 收盤價 50.40\n",
      "日期 112/08/16 收盤價 49.50\n",
      "日期 112/08/17 收盤價 51.60\n",
      "日期 112/08/18 收盤價 49.40\n",
      "日期 112/08/21 收盤價 50.70\n",
      "日期 112/08/22 收盤價 49.65\n",
      "日期 112/08/23 收盤價 52.40\n",
      "日期 112/08/24 收盤價 53.00\n",
      "日期 112/08/25 收盤價 51.10\n",
      "日期 112/08/28 收盤價 49.75\n",
      "日期 112/08/29 收盤價 50.20\n",
      "日期 112/08/30 收盤價 50.20\n",
      "日期 112/08/31 收盤價 50.20\n"
     ]
    }
   ],
   "source": [
    "import requests\n",
    "import json\n",
    "import openpyxl\n",
    "from bs4 import BeautifulSoup\n",
    "import pandas as pd\n",
    "\n",
    "stkno=\"8234\"\n",
    "d=\"112/08\"\n",
    "\n",
    "res=requests.get(\"https://www.tpex.org.tw/web/stock/aftertrading/daily_trading_info/st43_result.php?l=zh-tw&d=\"+d+\"&stkno=\"+stkno+\"&_=1693626842307\")\n",
    "\n",
    "jd=json.loads(res.text)\n",
    "\n",
    "for st in jd['aaData']:\n",
    "#    print(st)\n",
    "    print(\"日期\",st[0],\"收盤價\",st[6])"
   ]
  },
  {
   "cell_type": "code",
   "execution_count": 32,
   "metadata": {},
   "outputs": [
    {
     "ename": "NoSuchDriverException",
     "evalue": "Message: Unable to locate or obtain driver for chrome; For documentation on this error, please visit: https://www.selenium.dev/documentation/webdriver/troubleshooting/errors/driver_location\n",
     "output_type": "error",
     "traceback": [
      "\u001b[0;31m---------------------------------------------------------------------------\u001b[0m",
      "\u001b[0;31mNoSuchDriverException\u001b[0m                     Traceback (most recent call last)",
      "Cell \u001b[0;32mIn[32], line 6\u001b[0m\n\u001b[1;32m      3\u001b[0m \u001b[39mfrom\u001b[39;00m \u001b[39mselenium\u001b[39;00m\u001b[39m.\u001b[39;00m\u001b[39mwebdriver\u001b[39;00m\u001b[39m.\u001b[39;00m\u001b[39mcommon\u001b[39;00m\u001b[39m.\u001b[39;00m\u001b[39mby\u001b[39;00m \u001b[39mimport\u001b[39;00m By\n\u001b[1;32m      5\u001b[0m services\u001b[39m=\u001b[39mService(executable_path\u001b[39m=\u001b[39m\u001b[39m\"\u001b[39m\u001b[39mC:\u001b[39m\u001b[39m\\\\\u001b[39;00m\u001b[39mUsers\u001b[39m\u001b[39m\\\\\u001b[39;00m\u001b[39muser\u001b[39m\u001b[39m\\\\\u001b[39;00m\u001b[39mDesktop\u001b[39m\u001b[39m\\\\\u001b[39;00m\u001b[39mbig_data\u001b[39m\u001b[39m\\\\\u001b[39;00m\u001b[39mchromedriver.exe\u001b[39m\u001b[39m\"\u001b[39m)\n\u001b[0;32m----> 6\u001b[0m driver\u001b[39m=\u001b[39mwebdriver\u001b[39m.\u001b[39;49mChrome(service\u001b[39m=\u001b[39;49mservices)\n\u001b[1;32m      7\u001b[0m driver\u001b[39m.\u001b[39mget(\u001b[39m\"\u001b[39m\u001b[39mhttps://www.facebook.com\u001b[39m\u001b[39m\"\u001b[39m)\n\u001b[1;32m      9\u001b[0m driver\u001b[39m.\u001b[39mfind_element(By\u001b[39m.\u001b[39mCSS_SELECTOR,\u001b[39m'\u001b[39m\u001b[39minput[name=\u001b[39m\u001b[39m\"\u001b[39m\u001b[39memail\u001b[39m\u001b[39m\"\u001b[39m\u001b[39m]\u001b[39m\u001b[39m'\u001b[39m)\u001b[39m.\u001b[39msend_keys(\u001b[39m\"\u001b[39m\u001b[39meve2425@yahoo.com.tw\u001b[39m\u001b[39m\"\u001b[39m)\n",
      "File \u001b[0;32m~/.python/current/lib/python3.10/site-packages/selenium/webdriver/chrome/webdriver.py:45\u001b[0m, in \u001b[0;36mWebDriver.__init__\u001b[0;34m(self, options, service, keep_alive)\u001b[0m\n\u001b[1;32m     42\u001b[0m service \u001b[39m=\u001b[39m service \u001b[39mif\u001b[39;00m service \u001b[39melse\u001b[39;00m Service()\n\u001b[1;32m     43\u001b[0m options \u001b[39m=\u001b[39m options \u001b[39mif\u001b[39;00m options \u001b[39melse\u001b[39;00m Options()\n\u001b[0;32m---> 45\u001b[0m \u001b[39msuper\u001b[39;49m()\u001b[39m.\u001b[39;49m\u001b[39m__init__\u001b[39;49m(\n\u001b[1;32m     46\u001b[0m     DesiredCapabilities\u001b[39m.\u001b[39;49mCHROME[\u001b[39m\"\u001b[39;49m\u001b[39mbrowserName\u001b[39;49m\u001b[39m\"\u001b[39;49m],\n\u001b[1;32m     47\u001b[0m     \u001b[39m\"\u001b[39;49m\u001b[39mgoog\u001b[39;49m\u001b[39m\"\u001b[39;49m,\n\u001b[1;32m     48\u001b[0m     options,\n\u001b[1;32m     49\u001b[0m     service,\n\u001b[1;32m     50\u001b[0m     keep_alive,\n\u001b[1;32m     51\u001b[0m )\n",
      "File \u001b[0;32m~/.python/current/lib/python3.10/site-packages/selenium/webdriver/chromium/webdriver.py:51\u001b[0m, in \u001b[0;36mChromiumDriver.__init__\u001b[0;34m(self, browser_name, vendor_prefix, options, service, keep_alive)\u001b[0m\n\u001b[1;32m     47\u001b[0m \u001b[39mself\u001b[39m\u001b[39m.\u001b[39mvendor_prefix \u001b[39m=\u001b[39m vendor_prefix\n\u001b[1;32m     49\u001b[0m \u001b[39mself\u001b[39m\u001b[39m.\u001b[39mservice \u001b[39m=\u001b[39m service\n\u001b[0;32m---> 51\u001b[0m \u001b[39mself\u001b[39m\u001b[39m.\u001b[39mservice\u001b[39m.\u001b[39mpath \u001b[39m=\u001b[39m DriverFinder\u001b[39m.\u001b[39;49mget_path(\u001b[39mself\u001b[39;49m\u001b[39m.\u001b[39;49mservice, options)\n\u001b[1;32m     53\u001b[0m \u001b[39mself\u001b[39m\u001b[39m.\u001b[39mservice\u001b[39m.\u001b[39mstart()\n\u001b[1;32m     55\u001b[0m \u001b[39mtry\u001b[39;00m:\n",
      "File \u001b[0;32m~/.python/current/lib/python3.10/site-packages/selenium/webdriver/common/driver_finder.py:44\u001b[0m, in \u001b[0;36mDriverFinder.get_path\u001b[0;34m(service, options)\u001b[0m\n\u001b[1;32m     41\u001b[0m     \u001b[39mraise\u001b[39;00m NoSuchDriverException(msg) \u001b[39mfrom\u001b[39;00m \u001b[39merr\u001b[39;00m\n\u001b[1;32m     43\u001b[0m \u001b[39mif\u001b[39;00m path \u001b[39mis\u001b[39;00m \u001b[39mNone\u001b[39;00m \u001b[39mor\u001b[39;00m \u001b[39mnot\u001b[39;00m Path(path)\u001b[39m.\u001b[39mis_file():\n\u001b[0;32m---> 44\u001b[0m     \u001b[39mraise\u001b[39;00m NoSuchDriverException(\u001b[39mf\u001b[39m\u001b[39m\"\u001b[39m\u001b[39mUnable to locate or obtain driver for \u001b[39m\u001b[39m{\u001b[39;00moptions\u001b[39m.\u001b[39mcapabilities[\u001b[39m'\u001b[39m\u001b[39mbrowserName\u001b[39m\u001b[39m'\u001b[39m]\u001b[39m}\u001b[39;00m\u001b[39m\"\u001b[39m)\n\u001b[1;32m     46\u001b[0m \u001b[39mreturn\u001b[39;00m path\n",
      "\u001b[0;31mNoSuchDriverException\u001b[0m: Message: Unable to locate or obtain driver for chrome; For documentation on this error, please visit: https://www.selenium.dev/documentation/webdriver/troubleshooting/errors/driver_location\n"
     ]
    }
   ],
   "source": [
    "from selenium import webdriver\n",
    "from selenium.webdriver.chrome.service import Service\n",
    "from selenium.webdriver.common.by import By\n",
    "\n",
    "services=Service(executable_path=\"C:\\\\Users\\\\user\\\\Desktop\\\\big_data\\\\chromedriver.exe\")\n",
    "driver=webdriver.Chrome(service=services)\n",
    "driver.get(\"https://www.facebook.com\")\n",
    "\n",
    "driver.find_element(By.CSS_SELECTOR,'input[name=\"email\"]').send_keys(\"@yahoo.com.tw\")\n",
    "driver.find_element(By.CSS_SELECTOR,'input[name=\"pass\"]').send_keys(\"1111\")\n",
    "driver.find_element(By.CSS_SELECTOR,'button[name=\"login\"]').click()"
   ]
  }
 ],
 "metadata": {
  "kernelspec": {
   "display_name": "Python 3",
   "language": "python",
   "name": "python3"
  },
  "language_info": {
   "codemirror_mode": {
    "name": "ipython",
    "version": 3
   },
   "file_extension": ".py",
   "mimetype": "text/x-python",
   "name": "python",
   "nbconvert_exporter": "python",
   "pygments_lexer": "ipython3",
   "version": "3.10.8"
  },
  "orig_nbformat": 4
 },
 "nbformat": 4,
 "nbformat_minor": 2
}
