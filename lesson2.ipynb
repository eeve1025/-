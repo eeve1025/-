{
 "cells": [
  {
   "cell_type": "code",
   "execution_count": 1,
   "metadata": {},
   "outputs": [
    {
     "name": "stdout",
     "output_type": "stream",
     "text": [
      "/workspaces/big_data/new file\n"
     ]
    }
   ],
   "source": [
    "#找到python在電腦裡的路徑getcwd\n",
    "import os\n",
    "path=os.getcwd()\n",
    "path=os.path.join(path,\"new file\")\n",
    "print(path)\n",
    "if os.path.exists(path)==False:\n",
    "  os.mkdir(path)"
   ]
  },
  {
   "cell_type": "code",
   "execution_count": 44,
   "metadata": {},
   "outputs": [
    {
     "ename": "UnsupportedOperation",
     "evalue": "not readable",
     "output_type": "error",
     "traceback": [
      "\u001b[0;31m---------------------------------------------------------------------------\u001b[0m",
      "\u001b[0;31mUnsupportedOperation\u001b[0m                      Traceback (most recent call last)",
      "Cell \u001b[0;32mIn[44], line 6\u001b[0m\n\u001b[1;32m      4\u001b[0m f\u001b[39m.\u001b[39mwrite(\u001b[39m\"\u001b[39m\u001b[39m4555554431322222\u001b[39m\u001b[39m\\n\u001b[39;00m\u001b[39m\"\u001b[39m)\n\u001b[1;32m      5\u001b[0m f\u001b[39m.\u001b[39mwrite(\u001b[39m\"\u001b[39m\u001b[39m4ffvsasd\u001b[39m\u001b[39m\"\u001b[39m)\n\u001b[0;32m----> 6\u001b[0m \u001b[39mprint\u001b[39m(f\u001b[39m.\u001b[39;49mread())\n\u001b[1;32m      7\u001b[0m f\u001b[39m.\u001b[39mclose()\n",
      "\u001b[0;31mUnsupportedOperation\u001b[0m: not readable"
     ]
    }
   ],
   "source": [
    "#寫入資料 w覆蓋原來資料\n",
    "f=open(\"test.text\",\"w\",encoding='utf8')\n",
    "f.write(\"4555hjhkjlklk;;,6\\b\")\n",
    "f.write(\"4555554431322222\\n\")\n",
    "f.write(\"4ffvsasd\")\n",
    "print(f.read())\n",
    "f.close()\n"
   ]
  },
  {
   "cell_type": "code",
   "execution_count": 42,
   "metadata": {},
   "outputs": [
    {
     "name": "stdout",
     "output_type": "stream",
     "text": [
      "4555hjhkjlklk;;,4555554431322222\n",
      "4ffvsasd\n",
      "4555hjhkjlklk;;,4555554431322222\n",
      "4ffvsasd\n",
      "我很好\n",
      "\n"
     ]
    }
   ],
   "source": [
    "#讀取資料 r+為insert\n",
    "f=open(\"test.text\",\"r+\",encoding=\"utf8\")\n",
    "print(f.read())\n",
    "f.write(\"\\n我很好\\n\")\n",
    "f.seek(0,0)\n",
    "print(f.read())\n",
    "f.close()"
   ]
  }
 ],
 "metadata": {
  "kernelspec": {
   "display_name": "Python 3",
   "language": "python",
   "name": "python3"
  },
  "language_info": {
   "codemirror_mode": {
    "name": "ipython",
    "version": 3
   },
   "file_extension": ".py",
   "mimetype": "text/x-python",
   "name": "python",
   "nbconvert_exporter": "python",
   "pygments_lexer": "ipython3",
   "version": "3.10.8"
  },
  "orig_nbformat": 4
 },
 "nbformat": 4,
 "nbformat_minor": 2
}
