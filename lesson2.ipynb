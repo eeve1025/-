{
 "cells": [
  {
   "cell_type": "code",
   "execution_count": 1,
   "metadata": {},
   "outputs": [
    {
     "name": "stdout",
     "output_type": "stream",
     "text": [
      "/workspaces/big_data/new file\n"
     ]
    }
   ],
   "source": [
    "#找到python在電腦裡的路徑getcwd\n",
    "import os\n",
    "path=os.getcwd()\n",
    "path=os.path.join(path,\"new file\")\n",
    "print(path)\n",
    "if os.path.exists(path)==False:\n",
    "  os.mkdir(path)"
   ]
  },
  {
   "cell_type": "code",
   "execution_count": 5,
   "metadata": {},
   "outputs": [],
   "source": [
    "f=open(\"test.text\",\"w\")\n",
    "f.write(\"45556\\b\")\n",
    "f.write(\"45555544313\\n\")\n",
    "f.write(\"4ffvsasd\")\n",
    "f.close()"
   ]
  }
 ],
 "metadata": {
  "kernelspec": {
   "display_name": "Python 3",
   "language": "python",
   "name": "python3"
  },
  "language_info": {
   "codemirror_mode": {
    "name": "ipython",
    "version": 3
   },
   "file_extension": ".py",
   "mimetype": "text/x-python",
   "name": "python",
   "nbconvert_exporter": "python",
   "pygments_lexer": "ipython3",
   "version": "3.10.8"
  },
  "orig_nbformat": 4
 },
 "nbformat": 4,
 "nbformat_minor": 2
}
